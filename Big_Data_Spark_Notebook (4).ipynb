{
 "cells": [
  {
   "cell_type": "markdown",
   "metadata": {},
   "source": [
    "# Spark Context"
   ]
  },
  {
   "cell_type": "markdown",
   "metadata": {},
   "source": [
    "Spark Shell provides a preconfigured Spark Context called sc"
   ]
  },
  {
   "cell_type": "code",
   "execution_count": 1,
   "metadata": {
    "collapsed": false
   },
   "outputs": [
    {
     "data": {
      "text/plain": [
       "<pyspark.context.SparkContext at 0x7fe4555c76d0>"
      ]
     },
     "execution_count": 1,
     "metadata": {},
     "output_type": "execute_result"
    }
   ],
   "source": [
    "sc"
   ]
  },
  {
   "cell_type": "code",
   "execution_count": 2,
   "metadata": {
    "collapsed": false
   },
   "outputs": [
    {
     "data": {
      "text/plain": [
       "u'PySparkShell'"
      ]
     },
     "execution_count": 2,
     "metadata": {},
     "output_type": "execute_result"
    }
   ],
   "source": [
    "sc.appName"
   ]
  },
  {
   "cell_type": "markdown",
   "metadata": {},
   "source": [
    "# Creating RDDs"
   ]
  },
  {
   "cell_type": "markdown",
   "metadata": {},
   "source": [
    "## From Data in Memory"
   ]
  },
  {
   "cell_type": "code",
   "execution_count": 3,
   "metadata": {
    "collapsed": false
   },
   "outputs": [
    {
     "data": {
      "text/plain": [
       "['Alex', 'Max', 'Sam', 'Farzad']"
      ]
     },
     "execution_count": 3,
     "metadata": {},
     "output_type": "execute_result"
    }
   ],
   "source": [
    "myData = ['Alex', 'Max', 'Sam', 'Farzad']\n",
    "myData"
   ]
  },
  {
   "cell_type": "code",
   "execution_count": 8,
   "metadata": {
    "collapsed": true
   },
   "outputs": [],
   "source": [
    "myRDD = sc.parallelize(myData)"
   ]
  },
  {
   "cell_type": "code",
   "execution_count": 9,
   "metadata": {
    "collapsed": false
   },
   "outputs": [
    {
     "data": {
      "text/plain": [
       "['Alex', 'Max', 'Sam', 'Farzad']"
      ]
     },
     "execution_count": 9,
     "metadata": {},
     "output_type": "execute_result"
    }
   ],
   "source": [
    "myRDD.collect()"
   ]
  },
  {
   "cell_type": "code",
   "execution_count": 10,
   "metadata": {
    "collapsed": true
   },
   "outputs": [],
   "source": [
    "myData = [{'name': 'ALex', 'age': 25, 'city': 'Dallas'},\n",
    "          {'name': 'Max', 'age': 36, 'city': 'Austin'},\n",
    "          {'name': 'Sam', 'age': 43, 'city': 'New York'}]"
   ]
  },
  {
   "cell_type": "code",
   "execution_count": 11,
   "metadata": {
    "collapsed": true
   },
   "outputs": [],
   "source": [
    "myRDD = sc.parallelize(myData)"
   ]
  },
  {
   "cell_type": "code",
   "execution_count": 12,
   "metadata": {
    "collapsed": false
   },
   "outputs": [
    {
     "data": {
      "text/plain": [
       "[{'age': 25, 'city': 'Dallas', 'name': 'ALex'},\n",
       " {'age': 36, 'city': 'Austin', 'name': 'Max'},\n",
       " {'age': 43, 'city': 'New York', 'name': 'Sam'}]"
      ]
     },
     "execution_count": 12,
     "metadata": {},
     "output_type": "execute_result"
    }
   ],
   "source": [
    "myRDD.collect()"
   ]
  },
  {
   "cell_type": "markdown",
   "metadata": {},
   "source": [
    "## From Files or a Set of Files"
   ]
  },
  {
   "cell_type": "code",
   "execution_count": 15,
   "metadata": {
    "collapsed": true
   },
   "outputs": [],
   "source": [
    "myRDD = sc.textFile(\"myfile.txt\") # a single file"
   ]
  },
  {
   "cell_type": "code",
   "execution_count": 17,
   "metadata": {
    "collapsed": true
   },
   "outputs": [],
   "source": [
    "myRDD = sc.textFile(\"mydata/*.log\") # a wildcard list of files"
   ]
  },
  {
   "cell_type": "code",
   "execution_count": 18,
   "metadata": {
    "collapsed": true
   },
   "outputs": [],
   "source": [
    "myRDD = sc.textFile(\"myfile1.txt, myfile2.txt, myfile3.txt\") # a comma-separated list of files"
   ]
  },
  {
   "cell_type": "code",
   "execution_count": 201,
   "metadata": {
    "collapsed": true
   },
   "outputs": [],
   "source": [
    "myRDD = sc.textFile(\"file:/home/training/myfile.txt\") # a single file from Local file system"
   ]
  },
  {
   "cell_type": "code",
   "execution_count": 19,
   "metadata": {
    "collapsed": true
   },
   "outputs": [],
   "source": [
    "myRDD = sc.textFile(\"hdfs://localhost/big_data/Spark/myfile.txt\") # a single file from HDFS"
   ]
  },
  {
   "cell_type": "code",
   "execution_count": 20,
   "metadata": {
    "collapsed": false
   },
   "outputs": [
    {
     "data": {
      "text/plain": [
       "[u'lorem ipsum dolor sit amet',\n",
       " u'fusce sit lorem ipsum',\n",
       " u'donec in dolor odio ipsum',\n",
       " u'morbi ac ipsum quis enim male',\n",
       " u'donec risus nulla at pretium',\n",
       " u'nulla dolor in donec',\n",
       " u'morbi ut erat nec libero',\n",
       " u'libero nulla sit odio']"
      ]
     },
     "execution_count": 20,
     "metadata": {},
     "output_type": "execute_result"
    }
   ],
   "source": [
    "myRDD.collect()"
   ]
  },
  {
   "cell_type": "code",
   "execution_count": 21,
   "metadata": {
    "collapsed": false
   },
   "outputs": [
    {
     "data": {
      "text/plain": [
       "8"
      ]
     },
     "execution_count": 21,
     "metadata": {},
     "output_type": "execute_result"
    }
   ],
   "source": [
    "myRDD.count()"
   ]
  },
  {
   "cell_type": "markdown",
   "metadata": {},
   "source": [
    "## Whole File-Based RDDs"
   ]
  },
  {
   "cell_type": "code",
   "execution_count": 205,
   "metadata": {
    "collapsed": true
   },
   "outputs": [],
   "source": [
    "import json"
   ]
  },
  {
   "cell_type": "code",
   "execution_count": 206,
   "metadata": {
    "collapsed": true
   },
   "outputs": [],
   "source": [
    "myRDD = sc.wholeTextFiles(\"hdfs://localhost/big_data/Spark/jsondata\")"
   ]
  },
  {
   "cell_type": "code",
   "execution_count": 207,
   "metadata": {
    "collapsed": false
   },
   "outputs": [
    {
     "data": {
      "text/plain": [
       "[(u'hdfs://localhost/big_data/Spark/jsondata/file1.json',\n",
       "  u'{\\n \"name\": \"Alex\",\\n \"age\": \"23\",\\n \"id\": \"874621\"\\n}\\n'),\n",
       " (u'hdfs://localhost/big_data/Spark/jsondata/file2.json',\n",
       "  u'{\\n \"name\": \"Mary\",\\n \"age\": \"27\",\\n \"id\": \"957325\"\\n}')]"
      ]
     },
     "execution_count": 207,
     "metadata": {},
     "output_type": "execute_result"
    }
   ],
   "source": [
    "myRDD.collect()"
   ]
  },
  {
   "cell_type": "code",
   "execution_count": 208,
   "metadata": {
    "collapsed": false
   },
   "outputs": [
    {
     "data": {
      "text/plain": [
       "u'{\\n \"name\": \"Alex\",\\n \"age\": \"23\",\\n \"id\": \"874621\"\\n}\\n'"
      ]
     },
     "execution_count": 208,
     "metadata": {},
     "output_type": "execute_result"
    }
   ],
   "source": [
    "myRDD.collect()[0][1]"
   ]
  },
  {
   "cell_type": "code",
   "execution_count": null,
   "metadata": {
    "collapsed": true
   },
   "outputs": [],
   "source": [
    "myRDD2 = myRDD.map(lambda (name,s): json.loads(s))"
   ]
  },
  {
   "cell_type": "code",
   "execution_count": null,
   "metadata": {
    "collapsed": false
   },
   "outputs": [],
   "source": [
    "myRDD2.collect()"
   ]
  },
  {
   "cell_type": "code",
   "execution_count": null,
   "metadata": {
    "collapsed": false
   },
   "outputs": [],
   "source": [
    "for record in myRDD2.collect():\n",
    "    print(record['name'])"
   ]
  },
  {
   "cell_type": "markdown",
   "metadata": {},
   "source": [
    "# RDD Operations"
   ]
  },
  {
   "cell_type": "markdown",
   "metadata": {},
   "source": [
    "## Actions"
   ]
  },
  {
   "cell_type": "code",
   "execution_count": 24,
   "metadata": {
    "collapsed": true
   },
   "outputs": [],
   "source": [
    "myData = [{'name': 'ALex', 'age': 25, 'city': 'Dallas'},\n",
    "          {'name': 'Max', 'age': 36, 'city': 'Austin'},\n",
    "          {'name': 'Sam', 'age': 43, 'city': 'New York'}]"
   ]
  },
  {
   "cell_type": "code",
   "execution_count": 25,
   "metadata": {
    "collapsed": true
   },
   "outputs": [],
   "source": [
    "myRDD = sc.parallelize(myData)"
   ]
  },
  {
   "cell_type": "code",
   "execution_count": 26,
   "metadata": {
    "collapsed": false
   },
   "outputs": [
    {
     "data": {
      "text/plain": [
       "[{'age': 25, 'city': 'Dallas', 'name': 'ALex'},\n",
       " {'age': 36, 'city': 'Austin', 'name': 'Max'},\n",
       " {'age': 43, 'city': 'New York', 'name': 'Sam'}]"
      ]
     },
     "execution_count": 26,
     "metadata": {},
     "output_type": "execute_result"
    }
   ],
   "source": [
    "myRDD.collect()"
   ]
  },
  {
   "cell_type": "code",
   "execution_count": 27,
   "metadata": {
    "collapsed": false
   },
   "outputs": [
    {
     "data": {
      "text/plain": [
       "[{'age': 25, 'city': 'Dallas', 'name': 'ALex'}]"
      ]
     },
     "execution_count": 27,
     "metadata": {},
     "output_type": "execute_result"
    }
   ],
   "source": [
    "myRDD.take(1)"
   ]
  },
  {
   "cell_type": "code",
   "execution_count": 28,
   "metadata": {
    "collapsed": false
   },
   "outputs": [
    {
     "data": {
      "text/plain": [
       "3"
      ]
     },
     "execution_count": 28,
     "metadata": {},
     "output_type": "execute_result"
    }
   ],
   "source": [
    "myRDD.count()"
   ]
  },
  {
   "cell_type": "markdown",
   "metadata": {},
   "source": [
    "## Transformations"
   ]
  },
  {
   "cell_type": "code",
   "execution_count": 29,
   "metadata": {
    "collapsed": true
   },
   "outputs": [],
   "source": [
    "myRDD = sc.textFile(\"hdfs://localhost/big_data/Spark/myfile.txt\")"
   ]
  },
  {
   "cell_type": "code",
   "execution_count": 30,
   "metadata": {
    "collapsed": false
   },
   "outputs": [
    {
     "data": {
      "text/plain": [
       "[u'lorem ipsum dolor sit amet',\n",
       " u'fusce sit lorem ipsum',\n",
       " u'donec in dolor odio ipsum',\n",
       " u'morbi ac ipsum quis enim male',\n",
       " u'donec risus nulla at pretium',\n",
       " u'nulla dolor in donec',\n",
       " u'morbi ut erat nec libero',\n",
       " u'libero nulla sit odio']"
      ]
     },
     "execution_count": 30,
     "metadata": {},
     "output_type": "execute_result"
    }
   ],
   "source": [
    "myRDD.collect()"
   ]
  },
  {
   "cell_type": "code",
   "execution_count": 31,
   "metadata": {
    "collapsed": true
   },
   "outputs": [],
   "source": [
    "myRDD2 = myRDD.map(lambda line: line.upper())"
   ]
  },
  {
   "cell_type": "code",
   "execution_count": 32,
   "metadata": {
    "collapsed": false
   },
   "outputs": [
    {
     "data": {
      "text/plain": [
       "[u'LOREM IPSUM DOLOR SIT AMET',\n",
       " u'FUSCE SIT LOREM IPSUM',\n",
       " u'DONEC IN DOLOR ODIO IPSUM',\n",
       " u'MORBI AC IPSUM QUIS ENIM MALE',\n",
       " u'DONEC RISUS NULLA AT PRETIUM',\n",
       " u'NULLA DOLOR IN DONEC',\n",
       " u'MORBI UT ERAT NEC LIBERO',\n",
       " u'LIBERO NULLA SIT ODIO']"
      ]
     },
     "execution_count": 32,
     "metadata": {},
     "output_type": "execute_result"
    }
   ],
   "source": [
    "myRDD2.collect()"
   ]
  },
  {
   "cell_type": "code",
   "execution_count": 33,
   "metadata": {
    "collapsed": true
   },
   "outputs": [],
   "source": [
    "myRDD3 = myRDD2.filter(lambda line: line.startswith('L'))"
   ]
  },
  {
   "cell_type": "code",
   "execution_count": 34,
   "metadata": {
    "collapsed": false
   },
   "outputs": [
    {
     "data": {
      "text/plain": [
       "[u'LOREM IPSUM DOLOR SIT AMET', u'LIBERO NULLA SIT ODIO']"
      ]
     },
     "execution_count": 34,
     "metadata": {},
     "output_type": "execute_result"
    }
   ],
   "source": [
    "myRDD3.collect()"
   ]
  },
  {
   "cell_type": "markdown",
   "metadata": {},
   "source": [
    "### Single-RDD Transformations"
   ]
  },
  {
   "cell_type": "code",
   "execution_count": 35,
   "metadata": {
    "collapsed": true
   },
   "outputs": [],
   "source": [
    "myRDD = sc.textFile(\"hdfs://localhost/big_data/Spark/myfile.txt\")"
   ]
  },
  {
   "cell_type": "code",
   "execution_count": 36,
   "metadata": {
    "collapsed": false
   },
   "outputs": [
    {
     "data": {
      "text/plain": [
       "[u'lorem ipsum dolor sit amet',\n",
       " u'fusce sit lorem ipsum',\n",
       " u'donec in dolor odio ipsum',\n",
       " u'morbi ac ipsum quis enim male',\n",
       " u'donec risus nulla at pretium',\n",
       " u'nulla dolor in donec',\n",
       " u'morbi ut erat nec libero',\n",
       " u'libero nulla sit odio']"
      ]
     },
     "execution_count": 36,
     "metadata": {},
     "output_type": "execute_result"
    }
   ],
   "source": [
    "myRDD.collect()"
   ]
  },
  {
   "cell_type": "code",
   "execution_count": 37,
   "metadata": {
    "collapsed": true
   },
   "outputs": [],
   "source": [
    "myRDD2 = myRDD.flatMap(lambda line: line.split())"
   ]
  },
  {
   "cell_type": "code",
   "execution_count": 38,
   "metadata": {
    "collapsed": false
   },
   "outputs": [
    {
     "data": {
      "text/plain": [
       "[u'lorem',\n",
       " u'ipsum',\n",
       " u'dolor',\n",
       " u'sit',\n",
       " u'amet',\n",
       " u'fusce',\n",
       " u'sit',\n",
       " u'lorem',\n",
       " u'ipsum',\n",
       " u'donec',\n",
       " u'in',\n",
       " u'dolor',\n",
       " u'odio',\n",
       " u'ipsum',\n",
       " u'morbi',\n",
       " u'ac',\n",
       " u'ipsum',\n",
       " u'quis',\n",
       " u'enim',\n",
       " u'male',\n",
       " u'donec',\n",
       " u'risus',\n",
       " u'nulla',\n",
       " u'at',\n",
       " u'pretium',\n",
       " u'nulla',\n",
       " u'dolor',\n",
       " u'in',\n",
       " u'donec',\n",
       " u'morbi',\n",
       " u'ut',\n",
       " u'erat',\n",
       " u'nec',\n",
       " u'libero',\n",
       " u'libero',\n",
       " u'nulla',\n",
       " u'sit',\n",
       " u'odio']"
      ]
     },
     "execution_count": 38,
     "metadata": {},
     "output_type": "execute_result"
    }
   ],
   "source": [
    "myRDD2.collect()"
   ]
  },
  {
   "cell_type": "code",
   "execution_count": 39,
   "metadata": {
    "collapsed": false
   },
   "outputs": [
    {
     "data": {
      "text/plain": [
       "38"
      ]
     },
     "execution_count": 39,
     "metadata": {},
     "output_type": "execute_result"
    }
   ],
   "source": [
    "myRDD2.count()"
   ]
  },
  {
   "cell_type": "code",
   "execution_count": 40,
   "metadata": {
    "collapsed": true
   },
   "outputs": [],
   "source": [
    "myRDD3 = myRDD2.distinct()"
   ]
  },
  {
   "cell_type": "code",
   "execution_count": 41,
   "metadata": {
    "collapsed": false,
    "scrolled": false
   },
   "outputs": [
    {
     "data": {
      "text/plain": [
       "[u'ac',\n",
       " u'in',\n",
       " u'erat',\n",
       " u'at',\n",
       " u'enim',\n",
       " u'quis',\n",
       " u'sit',\n",
       " u'risus',\n",
       " u'nec',\n",
       " u'amet',\n",
       " u'fusce',\n",
       " u'donec',\n",
       " u'morbi',\n",
       " u'lorem',\n",
       " u'odio',\n",
       " u'ipsum',\n",
       " u'ut',\n",
       " u'pretium',\n",
       " u'libero',\n",
       " u'dolor',\n",
       " u'nulla',\n",
       " u'male']"
      ]
     },
     "execution_count": 41,
     "metadata": {},
     "output_type": "execute_result"
    }
   ],
   "source": [
    "myRDD3.collect()"
   ]
  },
  {
   "cell_type": "code",
   "execution_count": 42,
   "metadata": {
    "collapsed": false
   },
   "outputs": [
    {
     "data": {
      "text/plain": [
       "22"
      ]
     },
     "execution_count": 42,
     "metadata": {},
     "output_type": "execute_result"
    }
   ],
   "source": [
    "myRDD3.count()"
   ]
  },
  {
   "cell_type": "markdown",
   "metadata": {},
   "source": [
    "### Multi-RDD Transformation"
   ]
  },
  {
   "cell_type": "code",
   "execution_count": 43,
   "metadata": {
    "collapsed": true
   },
   "outputs": [],
   "source": [
    "myData1 = ['New York', 'Dallas', 'Austin', 'Los Angeles']\n",
    "myData2 = ['Dallas', 'San Francisco', 'Houston', 'Austin']"
   ]
  },
  {
   "cell_type": "code",
   "execution_count": 44,
   "metadata": {
    "collapsed": true
   },
   "outputs": [],
   "source": [
    "myRDD1 = sc.parallelize(myData1)\n",
    "myRDD2 = sc.parallelize(myData2)"
   ]
  },
  {
   "cell_type": "code",
   "execution_count": 45,
   "metadata": {
    "collapsed": true
   },
   "outputs": [],
   "source": [
    "myRDD3 = myRDD1.union(myRDD2)"
   ]
  },
  {
   "cell_type": "code",
   "execution_count": 46,
   "metadata": {
    "collapsed": false
   },
   "outputs": [
    {
     "data": {
      "text/plain": [
       "['New York',\n",
       " 'Dallas',\n",
       " 'Austin',\n",
       " 'Los Angeles',\n",
       " 'Dallas',\n",
       " 'San Francisco',\n",
       " 'Houston',\n",
       " 'Austin']"
      ]
     },
     "execution_count": 46,
     "metadata": {},
     "output_type": "execute_result"
    }
   ],
   "source": [
    "myRDD3.collect()"
   ]
  },
  {
   "cell_type": "code",
   "execution_count": 47,
   "metadata": {
    "collapsed": true
   },
   "outputs": [],
   "source": [
    "myRDD4 = myRDD1.subtract(myRDD2)"
   ]
  },
  {
   "cell_type": "code",
   "execution_count": 48,
   "metadata": {
    "collapsed": false
   },
   "outputs": [
    {
     "data": {
      "text/plain": [
       "['Los Angeles', 'New York']"
      ]
     },
     "execution_count": 48,
     "metadata": {},
     "output_type": "execute_result"
    }
   ],
   "source": [
    "myRDD4.collect()"
   ]
  },
  {
   "cell_type": "code",
   "execution_count": 49,
   "metadata": {
    "collapsed": true
   },
   "outputs": [],
   "source": [
    "myRDD5 = myRDD1.zip(myRDD2)"
   ]
  },
  {
   "cell_type": "code",
   "execution_count": 50,
   "metadata": {
    "collapsed": false
   },
   "outputs": [
    {
     "data": {
      "text/plain": [
       "[('New York', 'Dallas'),\n",
       " ('Dallas', 'San Francisco'),\n",
       " ('Austin', 'Houston'),\n",
       " ('Los Angeles', 'Austin')]"
      ]
     },
     "execution_count": 50,
     "metadata": {},
     "output_type": "execute_result"
    }
   ],
   "source": [
    "myRDD5.collect()"
   ]
  },
  {
   "cell_type": "markdown",
   "metadata": {},
   "source": [
    "## Chaining Transformations"
   ]
  },
  {
   "cell_type": "code",
   "execution_count": 51,
   "metadata": {
    "collapsed": true
   },
   "outputs": [],
   "source": [
    "myRDD = sc.textFile(\"hdfs://localhost/big_data/Spark/myfile.txt\")"
   ]
  },
  {
   "cell_type": "code",
   "execution_count": 52,
   "metadata": {
    "collapsed": false
   },
   "outputs": [
    {
     "data": {
      "text/plain": [
       "[u'lorem ipsum dolor sit amet',\n",
       " u'fusce sit lorem ipsum',\n",
       " u'donec in dolor odio ipsum',\n",
       " u'morbi ac ipsum quis enim male',\n",
       " u'donec risus nulla at pretium',\n",
       " u'nulla dolor in donec',\n",
       " u'morbi ut erat nec libero',\n",
       " u'libero nulla sit odio']"
      ]
     },
     "execution_count": 52,
     "metadata": {},
     "output_type": "execute_result"
    }
   ],
   "source": [
    "myRDD.collect()"
   ]
  },
  {
   "cell_type": "code",
   "execution_count": 53,
   "metadata": {
    "collapsed": true
   },
   "outputs": [],
   "source": [
    "myRDD2 = myRDD.map(lambda line: line.upper())"
   ]
  },
  {
   "cell_type": "code",
   "execution_count": 54,
   "metadata": {
    "collapsed": false
   },
   "outputs": [
    {
     "data": {
      "text/plain": [
       "[u'LOREM IPSUM DOLOR SIT AMET',\n",
       " u'FUSCE SIT LOREM IPSUM',\n",
       " u'DONEC IN DOLOR ODIO IPSUM',\n",
       " u'MORBI AC IPSUM QUIS ENIM MALE',\n",
       " u'DONEC RISUS NULLA AT PRETIUM',\n",
       " u'NULLA DOLOR IN DONEC',\n",
       " u'MORBI UT ERAT NEC LIBERO',\n",
       " u'LIBERO NULLA SIT ODIO']"
      ]
     },
     "execution_count": 54,
     "metadata": {},
     "output_type": "execute_result"
    }
   ],
   "source": [
    "myRDD2.collect()"
   ]
  },
  {
   "cell_type": "code",
   "execution_count": 55,
   "metadata": {
    "collapsed": true
   },
   "outputs": [],
   "source": [
    "myRDD3 = myRDD2.flatMap(lambda line: line.split())"
   ]
  },
  {
   "cell_type": "code",
   "execution_count": 56,
   "metadata": {
    "collapsed": false
   },
   "outputs": [
    {
     "data": {
      "text/plain": [
       "[u'LOREM',\n",
       " u'IPSUM',\n",
       " u'DOLOR',\n",
       " u'SIT',\n",
       " u'AMET',\n",
       " u'FUSCE',\n",
       " u'SIT',\n",
       " u'LOREM',\n",
       " u'IPSUM',\n",
       " u'DONEC',\n",
       " u'IN',\n",
       " u'DOLOR',\n",
       " u'ODIO',\n",
       " u'IPSUM',\n",
       " u'MORBI',\n",
       " u'AC',\n",
       " u'IPSUM',\n",
       " u'QUIS',\n",
       " u'ENIM',\n",
       " u'MALE',\n",
       " u'DONEC',\n",
       " u'RISUS',\n",
       " u'NULLA',\n",
       " u'AT',\n",
       " u'PRETIUM',\n",
       " u'NULLA',\n",
       " u'DOLOR',\n",
       " u'IN',\n",
       " u'DONEC',\n",
       " u'MORBI',\n",
       " u'UT',\n",
       " u'ERAT',\n",
       " u'NEC',\n",
       " u'LIBERO',\n",
       " u'LIBERO',\n",
       " u'NULLA',\n",
       " u'SIT',\n",
       " u'ODIO']"
      ]
     },
     "execution_count": 56,
     "metadata": {},
     "output_type": "execute_result"
    }
   ],
   "source": [
    "myRDD3.collect()"
   ]
  },
  {
   "cell_type": "code",
   "execution_count": 58,
   "metadata": {
    "collapsed": true
   },
   "outputs": [],
   "source": [
    "myRDD4 = myRDD3.distinct()"
   ]
  },
  {
   "cell_type": "code",
   "execution_count": 59,
   "metadata": {
    "collapsed": false
   },
   "outputs": [
    {
     "data": {
      "text/plain": [
       "[u'IPSUM',\n",
       " u'PRETIUM',\n",
       " u'DOLOR',\n",
       " u'NEC',\n",
       " u'ERAT',\n",
       " u'ENIM',\n",
       " u'AMET',\n",
       " u'SIT',\n",
       " u'LIBERO',\n",
       " u'MORBI',\n",
       " u'MALE',\n",
       " u'AC',\n",
       " u'RISUS',\n",
       " u'AT',\n",
       " u'IN',\n",
       " u'NULLA',\n",
       " u'ODIO',\n",
       " u'QUIS',\n",
       " u'UT',\n",
       " u'FUSCE',\n",
       " u'DONEC',\n",
       " u'LOREM']"
      ]
     },
     "execution_count": 59,
     "metadata": {},
     "output_type": "execute_result"
    }
   ],
   "source": [
    "myRDD4.collect()"
   ]
  },
  {
   "cell_type": "code",
   "execution_count": 60,
   "metadata": {
    "collapsed": false
   },
   "outputs": [
    {
     "data": {
      "text/plain": [
       "[u'IPSUM', u'PRETIUM', u'DOLOR', u'NEC', u'ERAT']"
      ]
     },
     "execution_count": 60,
     "metadata": {},
     "output_type": "execute_result"
    }
   ],
   "source": [
    "myRDD4.take(5)"
   ]
  },
  {
   "cell_type": "code",
   "execution_count": 61,
   "metadata": {
    "collapsed": false
   },
   "outputs": [
    {
     "data": {
      "text/plain": [
       "[u'IPSUM', u'PRETIUM', u'DOLOR', u'NEC', u'ERAT']"
      ]
     },
     "execution_count": 61,
     "metadata": {},
     "output_type": "execute_result"
    }
   ],
   "source": [
    "sc.textFile(\"hdfs://localhost/big_data/Spark/myfile.txt\") \\\n",
    "  .map(lambda line: line.upper()) \\\n",
    "  .flatMap(lambda line: line.split()) \\\n",
    "  .distinct() \\\n",
    "  .take(5)"
   ]
  },
  {
   "cell_type": "markdown",
   "metadata": {},
   "source": [
    "# Lineage"
   ]
  },
  {
   "cell_type": "code",
   "execution_count": 62,
   "metadata": {
    "collapsed": true
   },
   "outputs": [],
   "source": [
    "myRDD = sc.textFile(\"hdfs://localhost/big_data/Spark/myfile.txt\") \\\n",
    "          .map(lambda line: line.upper()) \\\n",
    "          .flatMap(lambda line: line.split()) \\\n",
    "          .distinct()"
   ]
  },
  {
   "cell_type": "code",
   "execution_count": 63,
   "metadata": {
    "collapsed": false
   },
   "outputs": [
    {
     "name": "stdout",
     "output_type": "stream",
     "text": [
      "(1) PythonRDD[77] at RDD at PythonRDD.scala:42 []\n",
      " |  MapPartitionsRDD[76] at mapPartitions at PythonRDD.scala:338 []\n",
      " |  ShuffledRDD[75] at partitionBy at NativeMethodAccessorImpl.java:-2 []\n",
      " +-(1) PairwiseRDD[74] at distinct at <ipython-input-62-4f89dfdd6bd9>:1 []\n",
      "    |  PythonRDD[73] at distinct at <ipython-input-62-4f89dfdd6bd9>:1 []\n",
      "    |  hdfs://localhost/big_data/Spark/myfile.txt MapPartitionsRDD[71] at textFile at NativeMethodAccessorImpl.java:-2 []\n",
      "    |  hdfs://localhost/big_data/Spark/myfile.txt HadoopRDD[70] at textFile at NativeMethodAccessorImpl.java:-2 []\n"
     ]
    }
   ],
   "source": [
    "print(myRDD.toDebugString())"
   ]
  },
  {
   "cell_type": "markdown",
   "metadata": {},
   "source": [
    "# Persistence"
   ]
  },
  {
   "cell_type": "code",
   "execution_count": 64,
   "metadata": {
    "collapsed": true
   },
   "outputs": [],
   "source": [
    "myRDD = sc.textFile(\"hdfs://localhost/big_data/Spark/myfile.txt\")"
   ]
  },
  {
   "cell_type": "code",
   "execution_count": 65,
   "metadata": {
    "collapsed": true
   },
   "outputs": [],
   "source": [
    "myRDD2 = myRDD.map(lambda line: line.upper())"
   ]
  },
  {
   "cell_type": "code",
   "execution_count": 66,
   "metadata": {
    "collapsed": false
   },
   "outputs": [
    {
     "data": {
      "text/plain": [
       "PythonRDD[80] at RDD at PythonRDD.scala:42"
      ]
     },
     "execution_count": 66,
     "metadata": {},
     "output_type": "execute_result"
    }
   ],
   "source": [
    "myRDD2.persist()"
   ]
  },
  {
   "cell_type": "code",
   "execution_count": 67,
   "metadata": {
    "collapsed": true
   },
   "outputs": [],
   "source": [
    "myRDD3 = myRDD2.flatMap(lambda line: line.split())"
   ]
  },
  {
   "cell_type": "code",
   "execution_count": 68,
   "metadata": {
    "collapsed": true
   },
   "outputs": [],
   "source": [
    "myRDD4 = myRDD3.distinct()"
   ]
  },
  {
   "cell_type": "code",
   "execution_count": 69,
   "metadata": {
    "collapsed": false
   },
   "outputs": [
    {
     "data": {
      "text/plain": [
       "22"
      ]
     },
     "execution_count": 69,
     "metadata": {},
     "output_type": "execute_result"
    }
   ],
   "source": [
    "myRDD4.count()"
   ]
  },
  {
   "cell_type": "markdown",
   "metadata": {},
   "source": [
    "## Persistence Levels"
   ]
  },
  {
   "cell_type": "code",
   "execution_count": null,
   "metadata": {
    "collapsed": true
   },
   "outputs": [],
   "source": [
    "from pyspark import StorageLevel"
   ]
  },
  {
   "cell_type": "code",
   "execution_count": null,
   "metadata": {
    "collapsed": true
   },
   "outputs": [],
   "source": [
    "myRDD = sc.textFile(\"hdfs://localhost/big_data/Spark/myfile.txt\")"
   ]
  },
  {
   "cell_type": "code",
   "execution_count": null,
   "metadata": {
    "collapsed": false
   },
   "outputs": [],
   "source": [
    "myRDD.persist(StorageLevel.MEMORY_ONLY)"
   ]
  },
  {
   "cell_type": "code",
   "execution_count": null,
   "metadata": {
    "collapsed": true
   },
   "outputs": [],
   "source": [
    "myRDD = sc.textFile(\"hdfs://localhost/big_data/Spark/myfile.txt\")"
   ]
  },
  {
   "cell_type": "code",
   "execution_count": null,
   "metadata": {
    "collapsed": false
   },
   "outputs": [],
   "source": [
    "myRDD.persist(StorageLevel.MEMORY_AND_DISK)"
   ]
  },
  {
   "cell_type": "code",
   "execution_count": null,
   "metadata": {
    "collapsed": true
   },
   "outputs": [],
   "source": [
    "myRDD = sc.textFile(\"hdfs://localhost/big_data/Spark/myfile.txt\")"
   ]
  },
  {
   "cell_type": "code",
   "execution_count": null,
   "metadata": {
    "collapsed": false
   },
   "outputs": [],
   "source": [
    "myRDD.persist(StorageLevel.DISK_ONLY)"
   ]
  },
  {
   "cell_type": "markdown",
   "metadata": {},
   "source": [
    "# Pair RDDs"
   ]
  },
  {
   "cell_type": "markdown",
   "metadata": {},
   "source": [
    "Example 1"
   ]
  },
  {
   "cell_type": "code",
   "execution_count": 70,
   "metadata": {
    "collapsed": false
   },
   "outputs": [
    {
     "name": "stdout",
     "output_type": "stream",
     "text": [
      "user01\tAlex\r\n",
      "user02\tSam\r\n",
      "user03\tMax"
     ]
    }
   ],
   "source": [
    "!hdfs dfs -cat /big_data/Spark/user_data.txt"
   ]
  },
  {
   "cell_type": "code",
   "execution_count": 71,
   "metadata": {
    "collapsed": true
   },
   "outputs": [],
   "source": [
    "myRDD = sc.textFile(\"hdfs://localhost/big_data/Spark/user_data.txt\")"
   ]
  },
  {
   "cell_type": "code",
   "execution_count": 72,
   "metadata": {
    "collapsed": false
   },
   "outputs": [
    {
     "data": {
      "text/plain": [
       "[u'user01\\tAlex', u'user02\\tSam', u'user03\\tMax']"
      ]
     },
     "execution_count": 72,
     "metadata": {},
     "output_type": "execute_result"
    }
   ],
   "source": [
    "myRDD.collect()"
   ]
  },
  {
   "cell_type": "code",
   "execution_count": 73,
   "metadata": {
    "collapsed": true
   },
   "outputs": [],
   "source": [
    "myRDD2 = myRDD.map(lambda line: line.split('\\t'))"
   ]
  },
  {
   "cell_type": "code",
   "execution_count": 75,
   "metadata": {
    "collapsed": false
   },
   "outputs": [
    {
     "data": {
      "text/plain": [
       "[[u'user01', u'Alex'], [u'user02', u'Sam'], [u'user03', u'Max']]"
      ]
     },
     "execution_count": 75,
     "metadata": {},
     "output_type": "execute_result"
    }
   ],
   "source": [
    "myRDD2.collect()"
   ]
  },
  {
   "cell_type": "code",
   "execution_count": 76,
   "metadata": {
    "collapsed": true
   },
   "outputs": [],
   "source": [
    "myRDD3 = myRDD2.map(lambda fields: (fields[0], fields[1]))"
   ]
  },
  {
   "cell_type": "code",
   "execution_count": 77,
   "metadata": {
    "collapsed": false
   },
   "outputs": [
    {
     "data": {
      "text/plain": [
       "[(u'user01', u'Alex'), (u'user02', u'Sam'), (u'user03', u'Max')]"
      ]
     },
     "execution_count": 77,
     "metadata": {},
     "output_type": "execute_result"
    }
   ],
   "source": [
    "myRDD3.collect()"
   ]
  },
  {
   "cell_type": "markdown",
   "metadata": {},
   "source": [
    "Example 2"
   ]
  },
  {
   "cell_type": "code",
   "execution_count": 78,
   "metadata": {
    "collapsed": false
   },
   "outputs": [
    {
     "name": "stdout",
     "output_type": "stream",
     "text": [
      "12.13.139.87 - 96828 [16/Sep/2013:23:59:44 +0100] \"GET /KBDOC-00129.html HTTP/1.0\" 200 17834 \"http://www.loudacre.com\"  \"Loudacre Mobile Browser Sorrento F24L\"\r\n",
      "12.13.139.87 - 96828 [16/Sep/2013:23:59:44 +0100] \"GET /theme.css HTTP/1.0\" 200 17883 \"http://www.loudacre.com\"  \"Loudacre Mobile Browser Sorrento F24L\"\r\n",
      "109.129.242.140 - 58687 [16/Sep/2013:23:57:52 +0100] \"GET /KBDOC-00282.html HTTP/1.0\" 200 4107 \"http://www.loudacre.com\"  \"Loudacre Mobile Browser Titanic 2400\"\r\n"
     ]
    }
   ],
   "source": [
    "!hdfs dfs -cat /big_data/Spark/weblogs.txt | head -n 3"
   ]
  },
  {
   "cell_type": "code",
   "execution_count": 79,
   "metadata": {
    "collapsed": true
   },
   "outputs": [],
   "source": [
    "myRDD = sc.textFile(\"hdfs://localhost/big_data/Spark/weblogs.txt\")"
   ]
  },
  {
   "cell_type": "code",
   "execution_count": 80,
   "metadata": {
    "collapsed": false
   },
   "outputs": [
    {
     "data": {
      "text/plain": [
       "[u'12.13.139.87 - 96828 [16/Sep/2013:23:59:44 +0100] \"GET /KBDOC-00129.html HTTP/1.0\" 200 17834 \"http://www.loudacre.com\"  \"Loudacre Mobile Browser Sorrento F24L\"']"
      ]
     },
     "execution_count": 80,
     "metadata": {},
     "output_type": "execute_result"
    }
   ],
   "source": [
    "myRDD.take(1)"
   ]
  },
  {
   "cell_type": "code",
   "execution_count": 82,
   "metadata": {
    "collapsed": false
   },
   "outputs": [
    {
     "data": {
      "text/plain": [
       "[[u'12.13.139.87',\n",
       "  u'-',\n",
       "  u'96828',\n",
       "  u'[16/Sep/2013:23:59:44',\n",
       "  u'+0100]',\n",
       "  u'\"GET',\n",
       "  u'/KBDOC-00129.html',\n",
       "  u'HTTP/1.0\"',\n",
       "  u'200',\n",
       "  u'17834',\n",
       "  u'\"http://www.loudacre.com\"',\n",
       "  u'',\n",
       "  u'\"Loudacre',\n",
       "  u'Mobile',\n",
       "  u'Browser',\n",
       "  u'Sorrento',\n",
       "  u'F24L\"']]"
      ]
     },
     "execution_count": 82,
     "metadata": {},
     "output_type": "execute_result"
    }
   ],
   "source": [
    "myRDD2 = myRDD.map(lambda line: line.split(' '))\n",
    "myRDD2.take(1)"
   ]
  },
  {
   "cell_type": "code",
   "execution_count": 83,
   "metadata": {
    "collapsed": false
   },
   "outputs": [
    {
     "data": {
      "text/plain": [
       "[(u'96828',\n",
       "  u'12.13.139.87 - 96828 [16/Sep/2013:23:59:44 +0100] \"GET /KBDOC-00129.html HTTP/1.0\" 200 17834 \"http://www.loudacre.com\"  \"Loudacre Mobile Browser Sorrento F24L\"'),\n",
       " (u'96828',\n",
       "  u'12.13.139.87 - 96828 [16/Sep/2013:23:59:44 +0100] \"GET /theme.css HTTP/1.0\" 200 17883 \"http://www.loudacre.com\"  \"Loudacre Mobile Browser Sorrento F24L\"'),\n",
       " (u'58687',\n",
       "  u'109.129.242.140 - 58687 [16/Sep/2013:23:57:52 +0100] \"GET /KBDOC-00282.html HTTP/1.0\" 200 4107 \"http://www.loudacre.com\"  \"Loudacre Mobile Browser Titanic 2400\"')]"
      ]
     },
     "execution_count": 83,
     "metadata": {},
     "output_type": "execute_result"
    }
   ],
   "source": [
    "myRDD.keyBy(lambda line: line.split(' ')[2]).take(3)"
   ]
  },
  {
   "cell_type": "markdown",
   "metadata": {},
   "source": [
    "## Pair RDDs with Complex Values"
   ]
  },
  {
   "cell_type": "markdown",
   "metadata": {},
   "source": [
    "Example 1"
   ]
  },
  {
   "cell_type": "code",
   "execution_count": 84,
   "metadata": {
    "collapsed": true
   },
   "outputs": [],
   "source": [
    "myRDD = sc.textFile(\"hdfs://localhost/big_data/Spark/zip_codes.txt\")"
   ]
  },
  {
   "cell_type": "code",
   "execution_count": 85,
   "metadata": {
    "collapsed": false
   },
   "outputs": [
    {
     "data": {
      "text/plain": [
       "[u'75248 65.32658 72.45998',\n",
       " u'75254 63.25698 72.25468',\n",
       " u'75263 61.25648 71.45689',\n",
       " u'75349 60.23546 74.26598',\n",
       " u'75102 59.56498 70.26654']"
      ]
     },
     "execution_count": 85,
     "metadata": {},
     "output_type": "execute_result"
    }
   ],
   "source": [
    "myRDD.collect()"
   ]
  },
  {
   "cell_type": "code",
   "execution_count": 86,
   "metadata": {
    "collapsed": true
   },
   "outputs": [],
   "source": [
    "myRDD2 = myRDD.map(lambda line: line.split())"
   ]
  },
  {
   "cell_type": "code",
   "execution_count": 88,
   "metadata": {
    "collapsed": false
   },
   "outputs": [
    {
     "data": {
      "text/plain": [
       "[[u'75248', u'65.32658', u'72.45998'],\n",
       " [u'75254', u'63.25698', u'72.25468'],\n",
       " [u'75263', u'61.25648', u'71.45689'],\n",
       " [u'75349', u'60.23546', u'74.26598'],\n",
       " [u'75102', u'59.56498', u'70.26654']]"
      ]
     },
     "execution_count": 88,
     "metadata": {},
     "output_type": "execute_result"
    }
   ],
   "source": [
    "myRDD2.collect()"
   ]
  },
  {
   "cell_type": "code",
   "execution_count": 89,
   "metadata": {
    "collapsed": false
   },
   "outputs": [],
   "source": [
    "myRDD3 = myRDD2.map(lambda fields: (fields[0],(fields[1], fields[2])))"
   ]
  },
  {
   "cell_type": "code",
   "execution_count": 90,
   "metadata": {
    "collapsed": false
   },
   "outputs": [
    {
     "data": {
      "text/plain": [
       "[(u'75248', (u'65.32658', u'72.45998')),\n",
       " (u'75254', (u'63.25698', u'72.25468')),\n",
       " (u'75263', (u'61.25648', u'71.45689')),\n",
       " (u'75349', (u'60.23546', u'74.26598')),\n",
       " (u'75102', (u'59.56498', u'70.26654'))]"
      ]
     },
     "execution_count": 90,
     "metadata": {},
     "output_type": "execute_result"
    }
   ],
   "source": [
    "myRDD3.collect()"
   ]
  },
  {
   "cell_type": "markdown",
   "metadata": {},
   "source": [
    "Example 2"
   ]
  },
  {
   "cell_type": "code",
   "execution_count": 246,
   "metadata": {
    "collapsed": true
   },
   "outputs": [],
   "source": [
    "myRDD = sc.textFile(\"hdfs://localhost/big_data/Spark/orders.txt\")"
   ]
  },
  {
   "cell_type": "code",
   "execution_count": 247,
   "metadata": {
    "collapsed": false
   },
   "outputs": [
    {
     "data": {
      "text/plain": [
       "[u'75248 oid6813:oid9863:oid2465',\n",
       " u'75254 oid4682:oid9242:oid9534',\n",
       " u'75263 oid1326:oid4532',\n",
       " u'75349 oid6813',\n",
       " u'75102 oid6813:oid9863']"
      ]
     },
     "execution_count": 247,
     "metadata": {},
     "output_type": "execute_result"
    }
   ],
   "source": [
    "myRDD.collect()"
   ]
  },
  {
   "cell_type": "code",
   "execution_count": 248,
   "metadata": {
    "collapsed": false
   },
   "outputs": [
    {
     "data": {
      "text/plain": [
       "[[u'75248', u'oid6813:oid9863:oid2465'],\n",
       " [u'75254', u'oid4682:oid9242:oid9534'],\n",
       " [u'75263', u'oid1326:oid4532'],\n",
       " [u'75349', u'oid6813'],\n",
       " [u'75102', u'oid6813:oid9863']]"
      ]
     },
     "execution_count": 248,
     "metadata": {},
     "output_type": "execute_result"
    }
   ],
   "source": [
    "myRDD2 = myRDD.map(lambda line: line.split(' '))\n",
    "myRDD2.collect()"
   ]
  },
  {
   "cell_type": "code",
   "execution_count": 249,
   "metadata": {
    "collapsed": false
   },
   "outputs": [
    {
     "data": {
      "text/plain": [
       "[(u'75248', u'oid6813:oid9863:oid2465'),\n",
       " (u'75254', u'oid4682:oid9242:oid9534'),\n",
       " (u'75263', u'oid1326:oid4532'),\n",
       " (u'75349', u'oid6813'),\n",
       " (u'75102', u'oid6813:oid9863')]"
      ]
     },
     "execution_count": 249,
     "metadata": {},
     "output_type": "execute_result"
    }
   ],
   "source": [
    "myRDD3 = myRDD2.map(lambda fields: (fields[0], fields[1]))\n",
    "myRDD3.collect()"
   ]
  },
  {
   "cell_type": "code",
   "execution_count": 250,
   "metadata": {
    "collapsed": false,
    "scrolled": true
   },
   "outputs": [
    {
     "data": {
      "text/plain": [
       "[(u'75248', u'oid6813'),\n",
       " (u'75248', u'oid9863'),\n",
       " (u'75248', u'oid2465'),\n",
       " (u'75254', u'oid4682'),\n",
       " (u'75254', u'oid9242'),\n",
       " (u'75254', u'oid9534'),\n",
       " (u'75263', u'oid1326'),\n",
       " (u'75263', u'oid4532'),\n",
       " (u'75349', u'oid6813'),\n",
       " (u'75102', u'oid6813'),\n",
       " (u'75102', u'oid9863')]"
      ]
     },
     "execution_count": 250,
     "metadata": {},
     "output_type": "execute_result"
    }
   ],
   "source": [
    "myRDD4 = myRDD3.flatMapValues(lambda oid: oid.split(':'))\n",
    "myRDD4.collect()"
   ]
  },
  {
   "cell_type": "markdown",
   "metadata": {},
   "source": [
    "# Spark Map-Reduce"
   ]
  },
  {
   "cell_type": "code",
   "execution_count": null,
   "metadata": {
    "collapsed": false
   },
   "outputs": [],
   "source": [
    "myRDD = sc.textFile(\"hdfs://localhost/big_data/Spark/myfile.txt\")\n",
    "myRDD.collect()"
   ]
  },
  {
   "cell_type": "code",
   "execution_count": null,
   "metadata": {
    "collapsed": false,
    "scrolled": false
   },
   "outputs": [],
   "source": [
    "myRDD2 = myRDD.flatMap(lambda line: line.split())\n",
    "myRDD2.collect()"
   ]
  },
  {
   "cell_type": "code",
   "execution_count": null,
   "metadata": {
    "collapsed": false,
    "scrolled": false
   },
   "outputs": [],
   "source": [
    "myRDD3 = myRDD2.map(lambda word: (word, 1))\n",
    "myRDD3.collect()"
   ]
  },
  {
   "cell_type": "code",
   "execution_count": null,
   "metadata": {
    "collapsed": false
   },
   "outputs": [],
   "source": [
    "myRDD4 = myRDD3.reduceByKey(lambda v1,v2: v1+v2)\n",
    "myRDD4.collect()"
   ]
  },
  {
   "cell_type": "markdown",
   "metadata": {},
   "source": [
    "# Other Operations with Pair RDDs"
   ]
  },
  {
   "cell_type": "markdown",
   "metadata": {},
   "source": [
    "## Example for Join"
   ]
  },
  {
   "cell_type": "markdown",
   "metadata": {},
   "source": [
    "### Preparing Weblogs containing requests"
   ]
  },
  {
   "cell_type": "code",
   "execution_count": null,
   "metadata": {
    "collapsed": true
   },
   "outputs": [],
   "source": [
    "import re"
   ]
  },
  {
   "cell_type": "code",
   "execution_count": null,
   "metadata": {
    "collapsed": true
   },
   "outputs": [],
   "source": [
    "def getRequestDoc(s):\n",
    "    return re.search(r'KBDOC-[0-9]*', s).group()"
   ]
  },
  {
   "cell_type": "code",
   "execution_count": null,
   "metadata": {
    "collapsed": false
   },
   "outputs": [],
   "source": [
    "logs = \"file:/home/training/training_materials/data/weblogs/*\"    \n",
    "kbreqs = sc.textFile(logs)\n",
    "kbreqs.take(3)"
   ]
  },
  {
   "cell_type": "code",
   "execution_count": null,
   "metadata": {
    "collapsed": false
   },
   "outputs": [],
   "source": [
    "kbreqs2 = kbreqs.filter(lambda line: 'KBDOC-' in line)\n",
    "kbreqs2.take(3)"
   ]
  },
  {
   "cell_type": "code",
   "execution_count": null,
   "metadata": {
    "collapsed": false
   },
   "outputs": [],
   "source": [
    "kbreqs3 = kbreqs2.map(lambda line: (getRequestDoc(line), line.split(' ')[2])).distinct()\n",
    "kbreqs3.take(3)"
   ]
  },
  {
   "cell_type": "markdown",
   "metadata": {},
   "source": [
    "### Preparing Knowledge Base artiles containing titles"
   ]
  },
  {
   "cell_type": "code",
   "execution_count": null,
   "metadata": {
    "collapsed": false
   },
   "outputs": [],
   "source": [
    "kblistfile = \"file:/home/training/training_materials/data/kb/*.html\"\n",
    "kblist = sc.wholeTextFiles(kblistfile)\n",
    "kblist.take(1)"
   ]
  },
  {
   "cell_type": "code",
   "execution_count": null,
   "metadata": {
    "collapsed": false
   },
   "outputs": [],
   "source": [
    "print kblist.take(1)[0][0]\n",
    "print kblist.take(1)[0][1]"
   ]
  },
  {
   "cell_type": "code",
   "execution_count": null,
   "metadata": {
    "collapsed": false,
    "scrolled": true
   },
   "outputs": [],
   "source": [
    "kblist2 = kblist.map(lambda file: (file[0].split('/')[-1].split('.')[0], file[1].split('<title>')[1].split('</title>')[0]))\n",
    "kblist2.take(3)"
   ]
  },
  {
   "cell_type": "markdown",
   "metadata": {},
   "source": [
    "### Merging requests with KB files"
   ]
  },
  {
   "cell_type": "code",
   "execution_count": null,
   "metadata": {
    "collapsed": false
   },
   "outputs": [],
   "source": [
    "titlereqs = kbreqs3.join(kblist2)\n",
    "titlereqs.take(3)"
   ]
  },
  {
   "cell_type": "code",
   "execution_count": null,
   "metadata": {
    "collapsed": false
   },
   "outputs": [],
   "source": [
    "titlereqs2 = titlereqs.map(lambda (docid, (userid, title)): (userid, title)).groupByKey()\n",
    "l = titlereqs2.take(5)"
   ]
  },
  {
   "cell_type": "code",
   "execution_count": null,
   "metadata": {
    "collapsed": false
   },
   "outputs": [],
   "source": [
    "for (userid,titles) in titlereqs2.take(10):\n",
    "    print \"userid:\", userid\n",
    "    for title in titles: print '\\t', title"
   ]
  },
  {
   "cell_type": "code",
   "execution_count": null,
   "metadata": {
    "collapsed": false,
    "scrolled": true
   },
   "outputs": [],
   "source": [
    "for i in l:\n",
    "    for j in i[1]:\n",
    "        print i[0], j"
   ]
  },
  {
   "cell_type": "markdown",
   "metadata": {},
   "source": [
    "# Building Spark Applications"
   ]
  },
  {
   "cell_type": "code",
   "execution_count": null,
   "metadata": {
    "collapsed": true
   },
   "outputs": [],
   "source": [
    "# import sys\n",
    "# from pyspark import SparkContext\n",
    "\n",
    "\n",
    "# if __name__ == \"__main__\":\n",
    "#     if len(sys.argv) < 2:\n",
    "#         print >> sys.stderr, \"Usage: WordCount <file>\"\n",
    "#         exit(-1)\n",
    "        \n",
    "#     sc = SparkContext()\n",
    "    \n",
    "#     counts = sc.textFile(sys.argv[1]) \\\n",
    "#                .flatMap(lamda line: line.split()) \\\n",
    "#                .map(lambda word: (word, 1)) \\\n",
    "#                .reduceByKey(lambda v1, v2: v1+v2)\n",
    "    \n",
    "#     for pair in counts.take(5): print pair\n",
    "        \n",
    "#     sc.stop()"
   ]
  },
  {
   "cell_type": "markdown",
   "metadata": {},
   "source": [
    "# Configuring Spark Application"
   ]
  },
  {
   "cell_type": "code",
   "execution_count": null,
   "metadata": {
    "collapsed": true
   },
   "outputs": [],
   "source": [
    "# import sys\n",
    "# from pyspark import SparkContext\n",
    "# from pyspark import SparkConf\n",
    "\n",
    "# if __name__ == \"__main__\":\n",
    "#     if len(sys.argv) < 2:\n",
    "#         print >> sys.stderr, \"Usage: WordCount <file>\"\n",
    "#         exit(-1)\n",
    "    \n",
    "#     sconf = SparkConf() \\\n",
    "#                 .setAppName(\"Word Count\") \\\n",
    "#                 .set(\"spark.ui.port\", \"4141\")\n",
    "        \n",
    "#     sc = SparkContext(conf=sconf)\n",
    "    \n",
    "#     counts = sc.textFile(sys.argv[1]) \\\n",
    "#                .flatMap(lamda line: line.split()) \\\n",
    "#                .map(lambda word: (word, 1)) \\\n",
    "#                .reduceByKey(lambda v1, v2: v1+v2)\n",
    "    \n",
    "#     for pair in counts.take(5): print pair\n",
    "        \n",
    "#     sc.stop()"
   ]
  },
  {
   "cell_type": "markdown",
   "metadata": {},
   "source": [
    "# Spark SQL"
   ]
  },
  {
   "cell_type": "markdown",
   "metadata": {},
   "source": [
    "## SQL Context"
   ]
  },
  {
   "cell_type": "code",
   "execution_count": 91,
   "metadata": {
    "collapsed": true
   },
   "outputs": [],
   "source": [
    "from pyspark import SQLContext"
   ]
  },
  {
   "cell_type": "code",
   "execution_count": 92,
   "metadata": {
    "collapsed": true
   },
   "outputs": [],
   "source": [
    "sqlCtx = SQLContext(sc)"
   ]
  },
  {
   "cell_type": "markdown",
   "metadata": {},
   "source": [
    "# Creating DataFrames"
   ]
  },
  {
   "cell_type": "markdown",
   "metadata": {},
   "source": [
    "## From a Text/CSV File"
   ]
  },
  {
   "cell_type": "code",
   "execution_count": 93,
   "metadata": {
    "collapsed": false
   },
   "outputs": [],
   "source": [
    "from pyspark.sql import *\n",
    "from pyspark.sql.types import *"
   ]
  },
  {
   "cell_type": "code",
   "execution_count": 94,
   "metadata": {
    "collapsed": true
   },
   "outputs": [],
   "source": [
    "studentsRDD = sc.textFile(\"hdfs://localhost/big_data/Spark/data.txt\")"
   ]
  },
  {
   "cell_type": "code",
   "execution_count": 95,
   "metadata": {
    "collapsed": false
   },
   "outputs": [
    {
     "data": {
      "text/plain": [
       "[u'1,Donald,Becton,Oakland,CA,3.5,3.7',\n",
       " u'2,Donna,Jones,San Francisco,TX,4.0,2.6']"
      ]
     },
     "execution_count": 95,
     "metadata": {},
     "output_type": "execute_result"
    }
   ],
   "source": [
    "studentsRDD.take(2)"
   ]
  },
  {
   "cell_type": "code",
   "execution_count": 96,
   "metadata": {
    "collapsed": false
   },
   "outputs": [],
   "source": [
    "studentsRDD2 = studentsRDD.map(lambda l: l.split(\",\"))"
   ]
  },
  {
   "cell_type": "code",
   "execution_count": 97,
   "metadata": {
    "collapsed": false
   },
   "outputs": [
    {
     "data": {
      "text/plain": [
       "[[u'1', u'Donald', u'Becton', u'Oakland', u'CA', u'3.5', u'3.7'],\n",
       " [u'2', u'Donna', u'Jones', u'San Francisco', u'TX', u'4.0', u'2.6']]"
      ]
     },
     "execution_count": 97,
     "metadata": {},
     "output_type": "execute_result"
    }
   ],
   "source": [
    "studentsRDD2.take(2)"
   ]
  },
  {
   "cell_type": "code",
   "execution_count": 98,
   "metadata": {
    "collapsed": false
   },
   "outputs": [],
   "source": [
    "studentsRDD3 = studentsRDD2.map(lambda p: (int(p[0]), p[1], p[2], p[3], \\\n",
    "                                              p[4], float(p[5]), float(p[6])))"
   ]
  },
  {
   "cell_type": "code",
   "execution_count": 99,
   "metadata": {
    "collapsed": false
   },
   "outputs": [
    {
     "data": {
      "text/plain": [
       "[(1, u'Donald', u'Becton', u'Oakland', u'CA', 3.5, 3.7),\n",
       " (2, u'Donna', u'Jones', u'San Francisco', u'TX', 4.0, 2.6)]"
      ]
     },
     "execution_count": 99,
     "metadata": {},
     "output_type": "execute_result"
    }
   ],
   "source": [
    "studentsRDD3.take(2)"
   ]
  },
  {
   "cell_type": "code",
   "execution_count": 102,
   "metadata": {
    "collapsed": false
   },
   "outputs": [],
   "source": [
    "field_names = ['id', 'firstname', 'lastname', 'city', 'state', 'math', 'physics']"
   ]
  },
  {
   "cell_type": "code",
   "execution_count": 103,
   "metadata": {
    "collapsed": false
   },
   "outputs": [],
   "source": [
    "fields = [StructField('id', IntegerType(), True), \n",
    "          StructField('firstname', StringType(), True), \n",
    "          StructField('lastname', StringType(), True), \n",
    "          StructField('city', StringType(), True), \n",
    "          StructField('state', StringType(), True), \n",
    "          StructField('math', DoubleType(), True), \n",
    "          StructField('physics', DoubleType(), True)]"
   ]
  },
  {
   "cell_type": "code",
   "execution_count": 104,
   "metadata": {
    "collapsed": false
   },
   "outputs": [
    {
     "data": {
      "text/plain": [
       "[StructField(id,IntegerType,true),\n",
       " StructField(firstname,StringType,true),\n",
       " StructField(lastname,StringType,true),\n",
       " StructField(city,StringType,true),\n",
       " StructField(state,StringType,true),\n",
       " StructField(math,DoubleType,true),\n",
       " StructField(physics,DoubleType,true)]"
      ]
     },
     "execution_count": 104,
     "metadata": {},
     "output_type": "execute_result"
    }
   ],
   "source": [
    "fields"
   ]
  },
  {
   "cell_type": "code",
   "execution_count": 105,
   "metadata": {
    "collapsed": true
   },
   "outputs": [],
   "source": [
    "studentsSchema = StructType(fields)"
   ]
  },
  {
   "cell_type": "code",
   "execution_count": 107,
   "metadata": {
    "collapsed": false
   },
   "outputs": [],
   "source": [
    "studentsDF = sqlCtx.createDataFrame(studentsRDD3, studentsSchema)"
   ]
  },
  {
   "cell_type": "code",
   "execution_count": 108,
   "metadata": {
    "collapsed": false
   },
   "outputs": [
    {
     "data": {
      "text/plain": [
       "DataFrame[id: int, firstname: string, lastname: string, city: string, state: string, math: double, physics: double]"
      ]
     },
     "execution_count": 108,
     "metadata": {},
     "output_type": "execute_result"
    }
   ],
   "source": [
    "studentsDF"
   ]
  },
  {
   "cell_type": "markdown",
   "metadata": {},
   "source": [
    "## From a JSON File"
   ]
  },
  {
   "cell_type": "code",
   "execution_count": 110,
   "metadata": {
    "collapsed": true
   },
   "outputs": [],
   "source": [
    "studentsDF = sqlCtx.jsonFile(\"hdfs://localhost/big_data/Spark/students.json\")"
   ]
  },
  {
   "cell_type": "code",
   "execution_count": 111,
   "metadata": {
    "collapsed": false,
    "scrolled": true
   },
   "outputs": [
    {
     "data": {
      "text/plain": [
       "DataFrame[age: string, city: string, id: string, math: string, name: string, physics: string]"
      ]
     },
     "execution_count": 111,
     "metadata": {},
     "output_type": "execute_result"
    }
   ],
   "source": [
    "studentsDF"
   ]
  },
  {
   "cell_type": "markdown",
   "metadata": {},
   "source": [
    "## From MySQL Database"
   ]
  },
  {
   "cell_type": "code",
   "execution_count": 112,
   "metadata": {
    "collapsed": true
   },
   "outputs": [],
   "source": [
    "accountsDF = sqlCtx.load(source=\"jdbc\", \n",
    "                         url=\"jdbc:mysql://localhost/loudacre?user=training&password=training\", \n",
    "                         dbtable=\"accounts\")"
   ]
  },
  {
   "cell_type": "code",
   "execution_count": 113,
   "metadata": {
    "collapsed": false
   },
   "outputs": [
    {
     "data": {
      "text/plain": [
       "DataFrame[acct_num: int, acct_create_dt: timestamp, acct_close_dt: timestamp, first_name: string, last_name: string, address: string, city: string, state: string, zipcode: string, phone_number: string, created: timestamp, modified: timestamp]"
      ]
     },
     "execution_count": 113,
     "metadata": {},
     "output_type": "execute_result"
    }
   ],
   "source": [
    "accountsDF"
   ]
  },
  {
   "cell_type": "markdown",
   "metadata": {},
   "source": [
    "# Transforming and Querying DataFrames"
   ]
  },
  {
   "cell_type": "markdown",
   "metadata": {},
   "source": [
    "## Basic Operations"
   ]
  },
  {
   "cell_type": "code",
   "execution_count": 114,
   "metadata": {
    "collapsed": false
   },
   "outputs": [
    {
     "data": {
      "text/plain": [
       "StructType(List(StructField(age,StringType,true),StructField(city,StringType,true),StructField(id,StringType,true),StructField(math,StringType,true),StructField(name,StringType,true),StructField(physics,StringType,true)))"
      ]
     },
     "execution_count": 114,
     "metadata": {},
     "output_type": "execute_result"
    }
   ],
   "source": [
    "studentsDF.schema"
   ]
  },
  {
   "cell_type": "code",
   "execution_count": 115,
   "metadata": {
    "collapsed": false
   },
   "outputs": [
    {
     "name": "stdout",
     "output_type": "stream",
     "text": [
      "root\n",
      " |-- age: string (nullable = true)\n",
      " |-- city: string (nullable = true)\n",
      " |-- id: string (nullable = true)\n",
      " |-- math: string (nullable = true)\n",
      " |-- name: string (nullable = true)\n",
      " |-- physics: string (nullable = true)\n",
      "\n"
     ]
    }
   ],
   "source": [
    "studentsDF.printSchema()"
   ]
  },
  {
   "cell_type": "code",
   "execution_count": 116,
   "metadata": {
    "collapsed": false
   },
   "outputs": [
    {
     "data": {
      "text/plain": [
       "[u'age', u'city', u'id', u'math', u'name', u'physics']"
      ]
     },
     "execution_count": 116,
     "metadata": {},
     "output_type": "execute_result"
    }
   ],
   "source": [
    "studentsDF.columns"
   ]
  },
  {
   "cell_type": "code",
   "execution_count": 117,
   "metadata": {
    "collapsed": false
   },
   "outputs": [
    {
     "data": {
      "text/plain": [
       "[('age', 'string'),\n",
       " ('city', 'string'),\n",
       " ('id', 'string'),\n",
       " ('math', 'string'),\n",
       " ('name', 'string'),\n",
       " ('physics', 'string')]"
      ]
     },
     "execution_count": 117,
     "metadata": {},
     "output_type": "execute_result"
    }
   ],
   "source": [
    "studentsDF.dtypes"
   ]
  },
  {
   "cell_type": "code",
   "execution_count": 118,
   "metadata": {
    "collapsed": false
   },
   "outputs": [
    {
     "data": {
      "text/plain": [
       "<bound method DataFrame.explain of DataFrame[age: string, city: string, id: string, math: string, name: string, physics: string]>"
      ]
     },
     "execution_count": 118,
     "metadata": {},
     "output_type": "execute_result"
    }
   ],
   "source": [
    "studentsDF.explain"
   ]
  },
  {
   "cell_type": "markdown",
   "metadata": {},
   "source": [
    "## DataFrame Actions"
   ]
  },
  {
   "cell_type": "code",
   "execution_count": 119,
   "metadata": {
    "collapsed": false
   },
   "outputs": [
    {
     "data": {
      "text/plain": [
       "6L"
      ]
     },
     "execution_count": 119,
     "metadata": {},
     "output_type": "execute_result"
    }
   ],
   "source": [
    "studentsDF.count()"
   ]
  },
  {
   "cell_type": "code",
   "execution_count": 120,
   "metadata": {
    "collapsed": false
   },
   "outputs": [
    {
     "name": "stdout",
     "output_type": "stream",
     "text": [
      "age city    id     math name  physics\n",
      "23  Dallas  765342 3.5  Alice 3.2    \n",
      "25  Austin  736253 3.7  Max   3.5    \n",
      "31  Houston 674629 3.2  Alex  3.9    \n"
     ]
    }
   ],
   "source": [
    "studentsDF.show(3)"
   ]
  },
  {
   "cell_type": "code",
   "execution_count": 121,
   "metadata": {
    "collapsed": false
   },
   "outputs": [
    {
     "data": {
      "text/plain": [
       "[Row(age=u'23', city=u'Dallas', id=u'765342', math=u'3.5', name=u'Alice', physics=u'3.2'),\n",
       " Row(age=u'25', city=u'Austin', id=u'736253', math=u'3.7', name=u'Max', physics=u'3.5'),\n",
       " Row(age=u'31', city=u'Houston', id=u'674629', math=u'3.2', name=u'Alex', physics=u'3.9')]"
      ]
     },
     "execution_count": 121,
     "metadata": {},
     "output_type": "execute_result"
    }
   ],
   "source": [
    "studentsDF.take(3)"
   ]
  },
  {
   "cell_type": "code",
   "execution_count": 122,
   "metadata": {
    "collapsed": false,
    "scrolled": true
   },
   "outputs": [
    {
     "data": {
      "text/plain": [
       "[Row(age=u'23', city=u'Dallas', id=u'765342', math=u'3.5', name=u'Alice', physics=u'3.2'),\n",
       " Row(age=u'25', city=u'Austin', id=u'736253', math=u'3.7', name=u'Max', physics=u'3.5'),\n",
       " Row(age=u'31', city=u'Houston', id=u'674629', math=u'3.2', name=u'Alex', physics=u'3.9'),\n",
       " Row(age=u'22', city=u'Dallas', id=u'467392', math=u'3.9', name=u'Farzad', physics=u'3.8'),\n",
       " Row(age=u'27', city=u'Los Angeles', id=u'983267', math=u'3.3', name=u'Sam', physics=u'3.0'),\n",
       " Row(age=u'21', city=u'New Yorl', id=u'354901', math=u'3.0', name=u'Daivd', physics=u'2.7')]"
      ]
     },
     "execution_count": 122,
     "metadata": {},
     "output_type": "execute_result"
    }
   ],
   "source": [
    "studentsDF.collect()"
   ]
  },
  {
   "cell_type": "markdown",
   "metadata": {},
   "source": [
    "## DataFrame Queries"
   ]
  },
  {
   "cell_type": "code",
   "execution_count": 123,
   "metadata": {
    "collapsed": false
   },
   "outputs": [
    {
     "name": "stdout",
     "output_type": "stream",
     "text": [
      "age city   id     math name  physics\n",
      "23  Dallas 765342 3.5  Alice 3.2    \n",
      "25  Austin 736253 3.7  Max   3.5    \n"
     ]
    }
   ],
   "source": [
    "studentsDF.limit(2).show()"
   ]
  },
  {
   "cell_type": "code",
   "execution_count": 124,
   "metadata": {
    "collapsed": false
   },
   "outputs": [
    {
     "name": "stdout",
     "output_type": "stream",
     "text": [
      "name  age\n",
      "Alice 23 \n",
      "Max   25 \n"
     ]
    }
   ],
   "source": [
    "studentsDF.select('name','age').show(2)"
   ]
  },
  {
   "cell_type": "code",
   "execution_count": 125,
   "metadata": {
    "collapsed": false
   },
   "outputs": [
    {
     "name": "stdout",
     "output_type": "stream",
     "text": [
      "age city   id     math name   physics\n",
      "25  Austin 736253 3.7  Max    3.5    \n",
      "22  Dallas 467392 3.9  Farzad 3.8    \n"
     ]
    }
   ],
   "source": [
    "studentsDF.where('math > 3.5').show()"
   ]
  },
  {
   "cell_type": "code",
   "execution_count": 126,
   "metadata": {
    "collapsed": false
   },
   "outputs": [
    {
     "name": "stdout",
     "output_type": "stream",
     "text": [
      "age city    id     math name physics\n",
      "31  Houston 674629 3.2  Alex 3.9    \n"
     ]
    }
   ],
   "source": [
    "studentsDF.filter('math < 3.5').show(1)"
   ]
  },
  {
   "cell_type": "code",
   "execution_count": 127,
   "metadata": {
    "collapsed": false,
    "scrolled": true
   },
   "outputs": [
    {
     "name": "stdout",
     "output_type": "stream",
     "text": [
      "age city    id     math name physics\n",
      "31  Houston 674629 3.2  Alex 3.9    \n"
     ]
    }
   ],
   "source": [
    "studentsDF.where(studentsDF.age > 25).show(1)"
   ]
  },
  {
   "cell_type": "code",
   "execution_count": 128,
   "metadata": {
    "collapsed": false
   },
   "outputs": [
    {
     "name": "stdout",
     "output_type": "stream",
     "text": [
      "id     ((math + physics) / 2)\n",
      "765342 3.35                  \n",
      "736253 3.6                   \n",
      "674629 3.55                  \n",
      "467392 3.8499999999999996    \n",
      "983267 3.15                  \n",
      "354901 2.85                  \n"
     ]
    }
   ],
   "source": [
    "studentsDF.select(studentsDF.id, (studentsDF.math + studentsDF.physics)/2).show()"
   ]
  },
  {
   "cell_type": "code",
   "execution_count": 129,
   "metadata": {
    "collapsed": false
   },
   "outputs": [
    {
     "name": "stdout",
     "output_type": "stream",
     "text": [
      "age city        id     math name   physics\n",
      "21  New Yorl    354901 3.0  Daivd  2.7    \n",
      "22  Dallas      467392 3.9  Farzad 3.8    \n",
      "23  Dallas      765342 3.5  Alice  3.2    \n",
      "25  Austin      736253 3.7  Max    3.5    \n",
      "27  Los Angeles 983267 3.3  Sam    3.0    \n",
      "31  Houston     674629 3.2  Alex   3.9    \n"
     ]
    }
   ],
   "source": [
    "studentsDF.sort(studentsDF.age.asc()).show()"
   ]
  },
  {
   "cell_type": "markdown",
   "metadata": {},
   "source": [
    "You can also perform any free form SQL queries"
   ]
  },
  {
   "cell_type": "code",
   "execution_count": 130,
   "metadata": {
    "collapsed": true
   },
   "outputs": [],
   "source": [
    "studentsDF.registerAsTable(\"students\")"
   ]
  },
  {
   "cell_type": "code",
   "execution_count": 131,
   "metadata": {
    "collapsed": false
   },
   "outputs": [],
   "source": [
    "result = sqlCtx.sql(\"\"\"\n",
    "            SELECT * \n",
    "            FROM students\n",
    "            WHERE age > 25 AND physics > 3.5\"\"\")"
   ]
  },
  {
   "cell_type": "code",
   "execution_count": 132,
   "metadata": {
    "collapsed": false,
    "scrolled": true
   },
   "outputs": [
    {
     "name": "stdout",
     "output_type": "stream",
     "text": [
      "age city    id     math name physics\n",
      "31  Houston 674629 3.2  Alex 3.9    \n"
     ]
    }
   ],
   "source": [
    "result.show()"
   ]
  },
  {
   "cell_type": "markdown",
   "metadata": {},
   "source": [
    "# DataFrames and RDDs"
   ]
  },
  {
   "cell_type": "code",
   "execution_count": 133,
   "metadata": {
    "collapsed": false
   },
   "outputs": [
    {
     "name": "stdout",
     "output_type": "stream",
     "text": [
      "age city        id     math name   physics\n",
      "23  Dallas      765342 3.5  Alice  3.2    \n",
      "25  Austin      736253 3.7  Max    3.5    \n",
      "31  Houston     674629 3.2  Alex   3.9    \n",
      "22  Dallas      467392 3.9  Farzad 3.8    \n",
      "27  Los Angeles 983267 3.3  Sam    3.0    \n",
      "21  New Yorl    354901 3.0  Daivd  2.7    \n"
     ]
    }
   ],
   "source": [
    "studentsDF.show()"
   ]
  },
  {
   "cell_type": "code",
   "execution_count": 134,
   "metadata": {
    "collapsed": false
   },
   "outputs": [],
   "source": [
    "studentsRDD = studentsDF.rdd"
   ]
  },
  {
   "cell_type": "code",
   "execution_count": 135,
   "metadata": {
    "collapsed": false
   },
   "outputs": [
    {
     "data": {
      "text/plain": [
       "[Row(age=u'23', city=u'Dallas', id=u'765342', math=u'3.5', name=u'Alice', physics=u'3.2'),\n",
       " Row(age=u'25', city=u'Austin', id=u'736253', math=u'3.7', name=u'Max', physics=u'3.5'),\n",
       " Row(age=u'31', city=u'Houston', id=u'674629', math=u'3.2', name=u'Alex', physics=u'3.9'),\n",
       " Row(age=u'22', city=u'Dallas', id=u'467392', math=u'3.9', name=u'Farzad', physics=u'3.8'),\n",
       " Row(age=u'27', city=u'Los Angeles', id=u'983267', math=u'3.3', name=u'Sam', physics=u'3.0'),\n",
       " Row(age=u'21', city=u'New Yorl', id=u'354901', math=u'3.0', name=u'Daivd', physics=u'2.7')]"
      ]
     },
     "execution_count": 135,
     "metadata": {},
     "output_type": "execute_result"
    }
   ],
   "source": [
    "studentsRDD.collect()"
   ]
  },
  {
   "cell_type": "code",
   "execution_count": 136,
   "metadata": {
    "collapsed": false
   },
   "outputs": [
    {
     "data": {
      "text/plain": [
       "[(u'765342', u'3.5', u'3.2'),\n",
       " (u'736253', u'3.7', u'3.5'),\n",
       " (u'674629', u'3.2', u'3.9')]"
      ]
     },
     "execution_count": 136,
     "metadata": {},
     "output_type": "execute_result"
    }
   ],
   "source": [
    "studentsRDD2 = studentsRDD.map(lambda row: (row.id, row.math, row.physics))\n",
    "studentsRDD2.take(3)"
   ]
  }
 ],
 "metadata": {
  "kernelspec": {
   "display_name": "Python 2",
   "language": "python",
   "name": "python2"
  },
  "language_info": {
   "codemirror_mode": {
    "name": "ipython",
    "version": 2
   },
   "file_extension": ".py",
   "mimetype": "text/x-python",
   "name": "python",
   "nbconvert_exporter": "python",
   "pygments_lexer": "ipython2",
   "version": "2.7.8"
  }
 },
 "nbformat": 4,
 "nbformat_minor": 0
}
